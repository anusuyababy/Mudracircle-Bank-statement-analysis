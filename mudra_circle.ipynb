{
  "nbformat": 4,
  "nbformat_minor": 0,
  "metadata": {
    "colab": {
      "name": "mudra_circle.ipynb",
      "provenance": []
    },
    "kernelspec": {
      "name": "python3",
      "display_name": "Python 3"
    },
    "language_info": {
      "name": "python"
    }
  },
  "cells": [
    {
      "cell_type": "markdown",
      "metadata": {
        "id": "IL_-j8vBeYxc"
      },
      "source": [
        "## YES BANK TRANSACTION STATEMENT"
      ]
    },
    {
      "cell_type": "code",
      "metadata": {
        "id": "lG2_hV5I6ROu",
        "colab": {
          "base_uri": "https://localhost:8080/"
        },
        "outputId": "ae4f3192-34b9-489c-ec49-b0b2505aa358"
      },
      "source": [
        "#importing all libraries\n",
        "import numpy as np\n",
        "import pandas as pd\n",
        "import matplotlib.pyplot as plt\n",
        "import seaborn as sns\n",
        "import nltk\n",
        "import re\n",
        "import time\n",
        "from datetime import datetime\n",
        "nltk.download('stopwords')\n",
        "pd.set_option('display.max_column', None)\n",
        "pd.set_option('display.max_rows', None)\n",
        "pd.set_option('display.max_seq_items', None)\n",
        "pd.set_option('display.max_colwidth', 500)\n",
        "pd.set_option('expand_frame_repr', True)"
      ],
      "execution_count": 210,
      "outputs": [
        {
          "output_type": "stream",
          "text": [
            "[nltk_data] Downloading package stopwords to /root/nltk_data...\n",
            "[nltk_data]   Package stopwords is already up-to-date!\n"
          ],
          "name": "stdout"
        }
      ]
    },
    {
      "cell_type": "code",
      "metadata": {
        "colab": {
          "base_uri": "https://localhost:8080/"
        },
        "id": "73nenc84z0KX",
        "outputId": "8c889438-f034-4455-82a8-dd32d36696df"
      },
      "source": [
        "# convert pdf to csv file by using tabula\n",
        "!pip install tabula-py"
      ],
      "execution_count": 211,
      "outputs": [
        {
          "output_type": "stream",
          "text": [
            "Requirement already satisfied: tabula-py in /usr/local/lib/python3.7/dist-packages (2.2.0)\n",
            "Requirement already satisfied: pandas>=0.25.3 in /usr/local/lib/python3.7/dist-packages (from tabula-py) (1.1.5)\n",
            "Requirement already satisfied: numpy in /usr/local/lib/python3.7/dist-packages (from tabula-py) (1.19.5)\n",
            "Requirement already satisfied: distro in /usr/local/lib/python3.7/dist-packages (from tabula-py) (1.5.0)\n",
            "Requirement already satisfied: pytz>=2017.2 in /usr/local/lib/python3.7/dist-packages (from pandas>=0.25.3->tabula-py) (2018.9)\n",
            "Requirement already satisfied: python-dateutil>=2.7.3 in /usr/local/lib/python3.7/dist-packages (from pandas>=0.25.3->tabula-py) (2.8.1)\n",
            "Requirement already satisfied: six>=1.5 in /usr/local/lib/python3.7/dist-packages (from python-dateutil>=2.7.3->pandas>=0.25.3->tabula-py) (1.15.0)\n"
          ],
          "name": "stdout"
        }
      ]
    },
    {
      "cell_type": "code",
      "metadata": {
        "colab": {
          "base_uri": "https://localhost:8080/"
        },
        "id": "xRms69Z-z0O1",
        "outputId": "762d0515-637b-4ed4-b7a3-69c2259e6b42"
      },
      "source": [
        "# Import the required Module\n",
        "import tabula\n",
        "# Read a PDF File\n",
        "df = tabula.read_pdf(\"/content/yes02.pdf\", pages='all')[0]\n",
        "# convert PDF into CSV\n",
        "tabula.convert_into(\"/content/yes02.pdf\", \"/content/yes02.csv\", output_format=\"csv\", pages='all')"
      ],
      "execution_count": 212,
      "outputs": [
        {
          "output_type": "stream",
          "text": [
            "Got stderr: Jul 29, 2021 8:20:22 AM org.apache.pdfbox.pdmodel.font.PDType1Font <init>\n",
            "WARNING: Using fallback font LiberationSans for base font Symbol\n",
            "Jul 29, 2021 8:20:22 AM org.apache.pdfbox.pdmodel.font.PDType1Font <init>\n",
            "WARNING: Using fallback font LiberationSans for base font ZapfDingbats\n",
            "Jul 29, 2021 8:20:24 AM org.apache.pdfbox.pdmodel.graphics.color.PDICCBased fallbackToAlternateColorSpace\n",
            "WARNING: Can't read embedded ICC profile (Invalid ICC Profile Data), using alternate color space: DeviceRGB\n",
            "Jul 29, 2021 8:20:25 AM org.apache.pdfbox.pdmodel.graphics.color.PDICCBased fallbackToAlternateColorSpace\n",
            "WARNING: Can't read embedded ICC profile (Invalid ICC Profile Data), using alternate color space: DeviceRGB\n",
            "\n",
            "Got stderr: Jul 29, 2021 8:20:27 AM org.apache.pdfbox.pdmodel.font.PDType1Font <init>\n",
            "WARNING: Using fallback font LiberationSans for base font Symbol\n",
            "Jul 29, 2021 8:20:28 AM org.apache.pdfbox.pdmodel.font.PDType1Font <init>\n",
            "WARNING: Using fallback font LiberationSans for base font ZapfDingbats\n",
            "Jul 29, 2021 8:20:29 AM org.apache.pdfbox.pdmodel.graphics.color.PDICCBased fallbackToAlternateColorSpace\n",
            "WARNING: Can't read embedded ICC profile (Invalid ICC Profile Data), using alternate color space: DeviceRGB\n",
            "Jul 29, 2021 8:20:30 AM org.apache.pdfbox.pdmodel.graphics.color.PDICCBased fallbackToAlternateColorSpace\n",
            "WARNING: Can't read embedded ICC profile (Invalid ICC Profile Data), using alternate color space: DeviceRGB\n",
            "\n"
          ],
          "name": "stderr"
        }
      ]
    },
    {
      "cell_type": "code",
      "metadata": {
        "id": "qNwZqP2zzyhl"
      },
      "source": [
        "#little bit modification manually and importing my csv files.\n",
        "import csv\n",
        "with open('yes bank.csv') as input, open('yesbank.csv', 'w', newline='') as output:\n",
        "     writer = csv.writer(output)\n",
        "     for row in csv.reader(input):\n",
        "         if any(field.strip() for field in row):\n",
        "             writer.writerow(row)"
      ],
      "execution_count": 213,
      "outputs": []
    },
    {
      "cell_type": "code",
      "metadata": {
        "colab": {
          "base_uri": "https://localhost:8080/",
          "height": 417
        },
        "id": "mbmpxlrrzynj",
        "outputId": "130b043b-9038-4079-fea1-b6a0e0f63646"
      },
      "source": [
        "df = pd.read_csv('/content/yesbank.csv')\n",
        "df.head()"
      ],
      "execution_count": 214,
      "outputs": [
        {
          "output_type": "execute_result",
          "data": {
            "text/html": [
              "<div>\n",
              "<style scoped>\n",
              "    .dataframe tbody tr th:only-of-type {\n",
              "        vertical-align: middle;\n",
              "    }\n",
              "\n",
              "    .dataframe tbody tr th {\n",
              "        vertical-align: top;\n",
              "    }\n",
              "\n",
              "    .dataframe thead th {\n",
              "        text-align: right;\n",
              "    }\n",
              "</style>\n",
              "<table border=\"1\" class=\"dataframe\">\n",
              "  <thead>\n",
              "    <tr style=\"text-align: right;\">\n",
              "      <th></th>\n",
              "      <th>Transaction Date</th>\n",
              "      <th>Value Date</th>\n",
              "      <th>Description</th>\n",
              "      <th>Withdrawal</th>\n",
              "      <th>Deposit</th>\n",
              "      <th>Balance</th>\n",
              "      <th>Unnamed: 6</th>\n",
              "      <th>Unnamed: 7</th>\n",
              "      <th>Unnamed: 8</th>\n",
              "      <th>Unnamed: 9</th>\n",
              "      <th>Unnamed: 10</th>\n",
              "      <th>Unnamed: 11</th>\n",
              "      <th>Unnamed: 12</th>\n",
              "      <th>Unnamed: 13</th>\n",
              "      <th>Unnamed: 14</th>\n",
              "      <th>Unnamed: 15</th>\n",
              "      <th>Unnamed: 16</th>\n",
              "    </tr>\n",
              "  </thead>\n",
              "  <tbody>\n",
              "    <tr>\n",
              "      <th>0</th>\n",
              "      <td>01-04-2019</td>\n",
              "      <td>02-04-2019</td>\n",
              "      <td>NEFT-N091190217874982-100017591084-SANGEET A RANI</td>\n",
              "      <td>50,000.00</td>\n",
              "      <td>0</td>\n",
              "      <td>-,17,98,060.46</td>\n",
              "      <td>NaN</td>\n",
              "      <td>NaN</td>\n",
              "      <td>NaN</td>\n",
              "      <td>NaN</td>\n",
              "      <td>NaN</td>\n",
              "      <td>NaN</td>\n",
              "      <td>NaN</td>\n",
              "      <td>NaN</td>\n",
              "      <td>NaN</td>\n",
              "      <td>NaN</td>\n",
              "      <td>NaN</td>\n",
              "    </tr>\n",
              "    <tr>\n",
              "      <th>1</th>\n",
              "      <td>02-04-2019</td>\n",
              "      <td>02-04-2019</td>\n",
              "      <td>NEFT Cr-HDFC0000240-PPAP AUTOMOTIVE LTD-ASIAN PACKAGING INDIA-N092190791349948</td>\n",
              "      <td>0</td>\n",
              "      <td>10,195.00</td>\n",
              "      <td>-,17,87,865.46</td>\n",
              "      <td>NaN</td>\n",
              "      <td>NaN</td>\n",
              "      <td>NaN</td>\n",
              "      <td>NaN</td>\n",
              "      <td>NaN</td>\n",
              "      <td>NaN</td>\n",
              "      <td>NaN</td>\n",
              "      <td>NaN</td>\n",
              "      <td>NaN</td>\n",
              "      <td>NaN</td>\n",
              "      <td>NaN</td>\n",
              "    </tr>\n",
              "    <tr>\n",
              "      <th>2</th>\n",
              "      <td>03-04-2019</td>\n",
              "      <td>03-04-2019</td>\n",
              "      <td>NEFT-N093190219086535-100017630729-GALAXY POLYPACK PVT. LTD.</td>\n",
              "      <td>43,362.00</td>\n",
              "      <td>0</td>\n",
              "      <td>-,18,31,227.46</td>\n",
              "      <td>NaN</td>\n",
              "      <td>NaN</td>\n",
              "      <td>NaN</td>\n",
              "      <td>NaN</td>\n",
              "      <td>NaN</td>\n",
              "      <td>NaN</td>\n",
              "      <td>NaN</td>\n",
              "      <td>NaN</td>\n",
              "      <td>NaN</td>\n",
              "      <td>NaN</td>\n",
              "      <td>NaN</td>\n",
              "    </tr>\n",
              "    <tr>\n",
              "      <th>3</th>\n",
              "      <td>03-04-2019</td>\n",
              "      <td>03-04-2019</td>\n",
              "      <td>NET TXN: IB FUNDS TRANS 010663300000800</td>\n",
              "      <td>44,781.00</td>\n",
              "      <td>0</td>\n",
              "      <td>-,18,76,008.46</td>\n",
              "      <td>NaN</td>\n",
              "      <td>NaN</td>\n",
              "      <td>NaN</td>\n",
              "      <td>NaN</td>\n",
              "      <td>NaN</td>\n",
              "      <td>NaN</td>\n",
              "      <td>NaN</td>\n",
              "      <td>NaN</td>\n",
              "      <td>NaN</td>\n",
              "      <td>NaN</td>\n",
              "      <td>NaN</td>\n",
              "    </tr>\n",
              "    <tr>\n",
              "      <th>4</th>\n",
              "      <td>03-04-2019</td>\n",
              "      <td>03-04-2019</td>\n",
              "      <td>NEFT-N093190219090808-100017630955-AMIT ELECTRICALS</td>\n",
              "      <td>1,947.00</td>\n",
              "      <td>0</td>\n",
              "      <td>-,18,77,955.46</td>\n",
              "      <td>NaN</td>\n",
              "      <td>NaN</td>\n",
              "      <td>NaN</td>\n",
              "      <td>NaN</td>\n",
              "      <td>NaN</td>\n",
              "      <td>NaN</td>\n",
              "      <td>NaN</td>\n",
              "      <td>NaN</td>\n",
              "      <td>NaN</td>\n",
              "      <td>NaN</td>\n",
              "      <td>NaN</td>\n",
              "    </tr>\n",
              "  </tbody>\n",
              "</table>\n",
              "</div>"
            ],
            "text/plain": [
              "  Transaction Date  Value Date  \\\n",
              "0       01-04-2019  02-04-2019   \n",
              "1       02-04-2019  02-04-2019   \n",
              "2       03-04-2019  03-04-2019   \n",
              "3       03-04-2019  03-04-2019   \n",
              "4       03-04-2019  03-04-2019   \n",
              "\n",
              "                                                                      Description  \\\n",
              "0                               NEFT-N091190217874982-100017591084-SANGEET A RANI   \n",
              "1  NEFT Cr-HDFC0000240-PPAP AUTOMOTIVE LTD-ASIAN PACKAGING INDIA-N092190791349948   \n",
              "2                    NEFT-N093190219086535-100017630729-GALAXY POLYPACK PVT. LTD.   \n",
              "3                                         NET TXN: IB FUNDS TRANS 010663300000800   \n",
              "4                             NEFT-N093190219090808-100017630955-AMIT ELECTRICALS   \n",
              "\n",
              "  Withdrawal    Deposit         Balance  Unnamed: 6  Unnamed: 7  Unnamed: 8  \\\n",
              "0  50,000.00          0  -,17,98,060.46         NaN         NaN         NaN   \n",
              "1          0  10,195.00  -,17,87,865.46         NaN         NaN         NaN   \n",
              "2  43,362.00          0  -,18,31,227.46         NaN         NaN         NaN   \n",
              "3  44,781.00          0  -,18,76,008.46         NaN         NaN         NaN   \n",
              "4   1,947.00          0  -,18,77,955.46         NaN         NaN         NaN   \n",
              "\n",
              "   Unnamed: 9  Unnamed: 10  Unnamed: 11  Unnamed: 12  Unnamed: 13  \\\n",
              "0         NaN          NaN          NaN          NaN          NaN   \n",
              "1         NaN          NaN          NaN          NaN          NaN   \n",
              "2         NaN          NaN          NaN          NaN          NaN   \n",
              "3         NaN          NaN          NaN          NaN          NaN   \n",
              "4         NaN          NaN          NaN          NaN          NaN   \n",
              "\n",
              "   Unnamed: 14  Unnamed: 15  Unnamed: 16  \n",
              "0          NaN          NaN          NaN  \n",
              "1          NaN          NaN          NaN  \n",
              "2          NaN          NaN          NaN  \n",
              "3          NaN          NaN          NaN  \n",
              "4          NaN          NaN          NaN  "
            ]
          },
          "metadata": {
            "tags": []
          },
          "execution_count": 214
        }
      ]
    },
    {
      "cell_type": "code",
      "metadata": {
        "colab": {
          "base_uri": "https://localhost:8080/",
          "height": 258
        },
        "id": "jI4gk7uczyrl",
        "outputId": "a5e8ae47-a74c-4069-d0db-c2ce44ede094"
      },
      "source": [
        "# removing unnamed columns\n",
        "df.drop(df.columns[df.columns.str.contains('Unnamed',case = False)],axis = 1, inplace = True)\n",
        "df.head()"
      ],
      "execution_count": 215,
      "outputs": [
        {
          "output_type": "execute_result",
          "data": {
            "text/html": [
              "<div>\n",
              "<style scoped>\n",
              "    .dataframe tbody tr th:only-of-type {\n",
              "        vertical-align: middle;\n",
              "    }\n",
              "\n",
              "    .dataframe tbody tr th {\n",
              "        vertical-align: top;\n",
              "    }\n",
              "\n",
              "    .dataframe thead th {\n",
              "        text-align: right;\n",
              "    }\n",
              "</style>\n",
              "<table border=\"1\" class=\"dataframe\">\n",
              "  <thead>\n",
              "    <tr style=\"text-align: right;\">\n",
              "      <th></th>\n",
              "      <th>Transaction Date</th>\n",
              "      <th>Value Date</th>\n",
              "      <th>Description</th>\n",
              "      <th>Withdrawal</th>\n",
              "      <th>Deposit</th>\n",
              "      <th>Balance</th>\n",
              "    </tr>\n",
              "  </thead>\n",
              "  <tbody>\n",
              "    <tr>\n",
              "      <th>0</th>\n",
              "      <td>01-04-2019</td>\n",
              "      <td>02-04-2019</td>\n",
              "      <td>NEFT-N091190217874982-100017591084-SANGEET A RANI</td>\n",
              "      <td>50,000.00</td>\n",
              "      <td>0</td>\n",
              "      <td>-,17,98,060.46</td>\n",
              "    </tr>\n",
              "    <tr>\n",
              "      <th>1</th>\n",
              "      <td>02-04-2019</td>\n",
              "      <td>02-04-2019</td>\n",
              "      <td>NEFT Cr-HDFC0000240-PPAP AUTOMOTIVE LTD-ASIAN PACKAGING INDIA-N092190791349948</td>\n",
              "      <td>0</td>\n",
              "      <td>10,195.00</td>\n",
              "      <td>-,17,87,865.46</td>\n",
              "    </tr>\n",
              "    <tr>\n",
              "      <th>2</th>\n",
              "      <td>03-04-2019</td>\n",
              "      <td>03-04-2019</td>\n",
              "      <td>NEFT-N093190219086535-100017630729-GALAXY POLYPACK PVT. LTD.</td>\n",
              "      <td>43,362.00</td>\n",
              "      <td>0</td>\n",
              "      <td>-,18,31,227.46</td>\n",
              "    </tr>\n",
              "    <tr>\n",
              "      <th>3</th>\n",
              "      <td>03-04-2019</td>\n",
              "      <td>03-04-2019</td>\n",
              "      <td>NET TXN: IB FUNDS TRANS 010663300000800</td>\n",
              "      <td>44,781.00</td>\n",
              "      <td>0</td>\n",
              "      <td>-,18,76,008.46</td>\n",
              "    </tr>\n",
              "    <tr>\n",
              "      <th>4</th>\n",
              "      <td>03-04-2019</td>\n",
              "      <td>03-04-2019</td>\n",
              "      <td>NEFT-N093190219090808-100017630955-AMIT ELECTRICALS</td>\n",
              "      <td>1,947.00</td>\n",
              "      <td>0</td>\n",
              "      <td>-,18,77,955.46</td>\n",
              "    </tr>\n",
              "  </tbody>\n",
              "</table>\n",
              "</div>"
            ],
            "text/plain": [
              "  Transaction Date  Value Date  \\\n",
              "0       01-04-2019  02-04-2019   \n",
              "1       02-04-2019  02-04-2019   \n",
              "2       03-04-2019  03-04-2019   \n",
              "3       03-04-2019  03-04-2019   \n",
              "4       03-04-2019  03-04-2019   \n",
              "\n",
              "                                                                      Description  \\\n",
              "0                               NEFT-N091190217874982-100017591084-SANGEET A RANI   \n",
              "1  NEFT Cr-HDFC0000240-PPAP AUTOMOTIVE LTD-ASIAN PACKAGING INDIA-N092190791349948   \n",
              "2                    NEFT-N093190219086535-100017630729-GALAXY POLYPACK PVT. LTD.   \n",
              "3                                         NET TXN: IB FUNDS TRANS 010663300000800   \n",
              "4                             NEFT-N093190219090808-100017630955-AMIT ELECTRICALS   \n",
              "\n",
              "  Withdrawal    Deposit         Balance  \n",
              "0  50,000.00          0  -,17,98,060.46  \n",
              "1          0  10,195.00  -,17,87,865.46  \n",
              "2  43,362.00          0  -,18,31,227.46  \n",
              "3  44,781.00          0  -,18,76,008.46  \n",
              "4   1,947.00          0  -,18,77,955.46  "
            ]
          },
          "metadata": {
            "tags": []
          },
          "execution_count": 215
        }
      ]
    },
    {
      "cell_type": "markdown",
      "metadata": {
        "id": "_IceAppCKOOg"
      },
      "source": [
        "## EDA AND DATA CLEANING"
      ]
    },
    {
      "cell_type": "code",
      "metadata": {
        "colab": {
          "base_uri": "https://localhost:8080/"
        },
        "id": "z2rbiI_y6hS1",
        "outputId": "117bdb0c-f4bf-4b28-fe6e-48cb993f90f4"
      },
      "source": [
        "df.shape"
      ],
      "execution_count": 216,
      "outputs": [
        {
          "output_type": "execute_result",
          "data": {
            "text/plain": [
              "(179, 6)"
            ]
          },
          "metadata": {
            "tags": []
          },
          "execution_count": 216
        }
      ]
    },
    {
      "cell_type": "code",
      "metadata": {
        "colab": {
          "base_uri": "https://localhost:8080/"
        },
        "id": "gfQB5Y7_PGc4",
        "outputId": "3d79d403-f5a5-4f78-808d-918cefdf6029"
      },
      "source": [
        "df.info()"
      ],
      "execution_count": 217,
      "outputs": [
        {
          "output_type": "stream",
          "text": [
            "<class 'pandas.core.frame.DataFrame'>\n",
            "RangeIndex: 179 entries, 0 to 178\n",
            "Data columns (total 6 columns):\n",
            " #   Column            Non-Null Count  Dtype \n",
            "---  ------            --------------  ----- \n",
            " 0   Transaction Date  179 non-null    object\n",
            " 1   Value Date        179 non-null    object\n",
            " 2   Description       179 non-null    object\n",
            " 3   Withdrawal        179 non-null    object\n",
            " 4   Deposit           179 non-null    object\n",
            " 5   Balance           179 non-null    object\n",
            "dtypes: object(6)\n",
            "memory usage: 8.5+ KB\n"
          ],
          "name": "stdout"
        }
      ]
    },
    {
      "cell_type": "code",
      "metadata": {
        "colab": {
          "base_uri": "https://localhost:8080/"
        },
        "id": "KatPY_sU7f4S",
        "outputId": "3cc30d50-5b78-48e9-a447-63d444a8c675"
      },
      "source": [
        "df.isnull().sum()"
      ],
      "execution_count": 218,
      "outputs": [
        {
          "output_type": "execute_result",
          "data": {
            "text/plain": [
              "Transaction Date    0\n",
              "Value Date          0\n",
              "Description         0\n",
              "Withdrawal          0\n",
              "Deposit             0\n",
              "Balance             0\n",
              "dtype: int64"
            ]
          },
          "metadata": {
            "tags": []
          },
          "execution_count": 218
        }
      ]
    },
    {
      "cell_type": "code",
      "metadata": {
        "colab": {
          "base_uri": "https://localhost:8080/",
          "height": 258
        },
        "id": "urjNoFL0JW3h",
        "outputId": "55d125d2-4173-47ec-afaa-ad3252548e60"
      },
      "source": [
        "# lot of cleaning needed in balance, withdrawal, and deposit\n",
        "df[\"Balance\"] = df[\"Balance\"].str.replace(\"-,\", '')\n",
        "df.head()"
      ],
      "execution_count": 219,
      "outputs": [
        {
          "output_type": "execute_result",
          "data": {
            "text/html": [
              "<div>\n",
              "<style scoped>\n",
              "    .dataframe tbody tr th:only-of-type {\n",
              "        vertical-align: middle;\n",
              "    }\n",
              "\n",
              "    .dataframe tbody tr th {\n",
              "        vertical-align: top;\n",
              "    }\n",
              "\n",
              "    .dataframe thead th {\n",
              "        text-align: right;\n",
              "    }\n",
              "</style>\n",
              "<table border=\"1\" class=\"dataframe\">\n",
              "  <thead>\n",
              "    <tr style=\"text-align: right;\">\n",
              "      <th></th>\n",
              "      <th>Transaction Date</th>\n",
              "      <th>Value Date</th>\n",
              "      <th>Description</th>\n",
              "      <th>Withdrawal</th>\n",
              "      <th>Deposit</th>\n",
              "      <th>Balance</th>\n",
              "    </tr>\n",
              "  </thead>\n",
              "  <tbody>\n",
              "    <tr>\n",
              "      <th>0</th>\n",
              "      <td>01-04-2019</td>\n",
              "      <td>02-04-2019</td>\n",
              "      <td>NEFT-N091190217874982-100017591084-SANGEET A RANI</td>\n",
              "      <td>50,000.00</td>\n",
              "      <td>0</td>\n",
              "      <td>17,98,060.46</td>\n",
              "    </tr>\n",
              "    <tr>\n",
              "      <th>1</th>\n",
              "      <td>02-04-2019</td>\n",
              "      <td>02-04-2019</td>\n",
              "      <td>NEFT Cr-HDFC0000240-PPAP AUTOMOTIVE LTD-ASIAN PACKAGING INDIA-N092190791349948</td>\n",
              "      <td>0</td>\n",
              "      <td>10,195.00</td>\n",
              "      <td>17,87,865.46</td>\n",
              "    </tr>\n",
              "    <tr>\n",
              "      <th>2</th>\n",
              "      <td>03-04-2019</td>\n",
              "      <td>03-04-2019</td>\n",
              "      <td>NEFT-N093190219086535-100017630729-GALAXY POLYPACK PVT. LTD.</td>\n",
              "      <td>43,362.00</td>\n",
              "      <td>0</td>\n",
              "      <td>18,31,227.46</td>\n",
              "    </tr>\n",
              "    <tr>\n",
              "      <th>3</th>\n",
              "      <td>03-04-2019</td>\n",
              "      <td>03-04-2019</td>\n",
              "      <td>NET TXN: IB FUNDS TRANS 010663300000800</td>\n",
              "      <td>44,781.00</td>\n",
              "      <td>0</td>\n",
              "      <td>18,76,008.46</td>\n",
              "    </tr>\n",
              "    <tr>\n",
              "      <th>4</th>\n",
              "      <td>03-04-2019</td>\n",
              "      <td>03-04-2019</td>\n",
              "      <td>NEFT-N093190219090808-100017630955-AMIT ELECTRICALS</td>\n",
              "      <td>1,947.00</td>\n",
              "      <td>0</td>\n",
              "      <td>18,77,955.46</td>\n",
              "    </tr>\n",
              "  </tbody>\n",
              "</table>\n",
              "</div>"
            ],
            "text/plain": [
              "  Transaction Date  Value Date  \\\n",
              "0       01-04-2019  02-04-2019   \n",
              "1       02-04-2019  02-04-2019   \n",
              "2       03-04-2019  03-04-2019   \n",
              "3       03-04-2019  03-04-2019   \n",
              "4       03-04-2019  03-04-2019   \n",
              "\n",
              "                                                                      Description  \\\n",
              "0                               NEFT-N091190217874982-100017591084-SANGEET A RANI   \n",
              "1  NEFT Cr-HDFC0000240-PPAP AUTOMOTIVE LTD-ASIAN PACKAGING INDIA-N092190791349948   \n",
              "2                    NEFT-N093190219086535-100017630729-GALAXY POLYPACK PVT. LTD.   \n",
              "3                                         NET TXN: IB FUNDS TRANS 010663300000800   \n",
              "4                             NEFT-N093190219090808-100017630955-AMIT ELECTRICALS   \n",
              "\n",
              "  Withdrawal    Deposit       Balance  \n",
              "0  50,000.00          0  17,98,060.46  \n",
              "1          0  10,195.00  17,87,865.46  \n",
              "2  43,362.00          0  18,31,227.46  \n",
              "3  44,781.00          0  18,76,008.46  \n",
              "4   1,947.00          0  18,77,955.46  "
            ]
          },
          "metadata": {
            "tags": []
          },
          "execution_count": 219
        }
      ]
    },
    {
      "cell_type": "code",
      "metadata": {
        "id": "DCkczK8JKMaC"
      },
      "source": [
        "df[\"Withdrawal\"] = df[\"Withdrawal\"].apply(lambda x: str(x).replace(\",\", \"\"))\n",
        "df[\"Deposit\"]= df[\"Deposit\"].apply(lambda x: x.replace(\",\", \"\"))\n",
        "df[\"Balance\"] = df[\"Balance\"].apply(lambda x: x.replace(\",\", \"\"))"
      ],
      "execution_count": 220,
      "outputs": []
    },
    {
      "cell_type": "code",
      "metadata": {
        "id": "gifA4uqgD8eW"
      },
      "source": [
        " df[\"Transaction Date\"] = pd.to_datetime(df[\"Transaction Date\"])\n",
        " df[\"Value Date\"] = pd.to_datetime(df[\"Value Date\"])\n",
        " df[\"Withdrawal\"] = pd.to_numeric(df[\"Withdrawal\"])\n",
        " df[\"Deposit\"] = pd.to_numeric(df[\"Deposit\"])\n",
        " df[\"Balance\"] = pd.to_numeric(df[\"Balance\"])"
      ],
      "execution_count": 221,
      "outputs": []
    },
    {
      "cell_type": "code",
      "metadata": {
        "colab": {
          "base_uri": "https://localhost:8080/"
        },
        "id": "esg8p-k8KtH4",
        "outputId": "129a2341-5463-4f4a-fea6-426aa6b5b549"
      },
      "source": [
        "df.info()"
      ],
      "execution_count": 222,
      "outputs": [
        {
          "output_type": "stream",
          "text": [
            "<class 'pandas.core.frame.DataFrame'>\n",
            "RangeIndex: 179 entries, 0 to 178\n",
            "Data columns (total 6 columns):\n",
            " #   Column            Non-Null Count  Dtype         \n",
            "---  ------            --------------  -----         \n",
            " 0   Transaction Date  179 non-null    datetime64[ns]\n",
            " 1   Value Date        179 non-null    datetime64[ns]\n",
            " 2   Description       179 non-null    object        \n",
            " 3   Withdrawal        179 non-null    float64       \n",
            " 4   Deposit           179 non-null    float64       \n",
            " 5   Balance           179 non-null    float64       \n",
            "dtypes: datetime64[ns](2), float64(3), object(1)\n",
            "memory usage: 8.5+ KB\n"
          ],
          "name": "stdout"
        }
      ]
    },
    {
      "cell_type": "code",
      "metadata": {
        "colab": {
          "base_uri": "https://localhost:8080/",
          "height": 258
        },
        "id": "N5PTJ2xvNi68",
        "outputId": "15270d4e-2ea9-4543-f394-446b98da0202"
      },
      "source": [
        "df.head()"
      ],
      "execution_count": 223,
      "outputs": [
        {
          "output_type": "execute_result",
          "data": {
            "text/html": [
              "<div>\n",
              "<style scoped>\n",
              "    .dataframe tbody tr th:only-of-type {\n",
              "        vertical-align: middle;\n",
              "    }\n",
              "\n",
              "    .dataframe tbody tr th {\n",
              "        vertical-align: top;\n",
              "    }\n",
              "\n",
              "    .dataframe thead th {\n",
              "        text-align: right;\n",
              "    }\n",
              "</style>\n",
              "<table border=\"1\" class=\"dataframe\">\n",
              "  <thead>\n",
              "    <tr style=\"text-align: right;\">\n",
              "      <th></th>\n",
              "      <th>Transaction Date</th>\n",
              "      <th>Value Date</th>\n",
              "      <th>Description</th>\n",
              "      <th>Withdrawal</th>\n",
              "      <th>Deposit</th>\n",
              "      <th>Balance</th>\n",
              "    </tr>\n",
              "  </thead>\n",
              "  <tbody>\n",
              "    <tr>\n",
              "      <th>0</th>\n",
              "      <td>2019-01-04</td>\n",
              "      <td>2019-02-04</td>\n",
              "      <td>NEFT-N091190217874982-100017591084-SANGEET A RANI</td>\n",
              "      <td>50000.0</td>\n",
              "      <td>0.0</td>\n",
              "      <td>1798060.46</td>\n",
              "    </tr>\n",
              "    <tr>\n",
              "      <th>1</th>\n",
              "      <td>2019-02-04</td>\n",
              "      <td>2019-02-04</td>\n",
              "      <td>NEFT Cr-HDFC0000240-PPAP AUTOMOTIVE LTD-ASIAN PACKAGING INDIA-N092190791349948</td>\n",
              "      <td>0.0</td>\n",
              "      <td>10195.0</td>\n",
              "      <td>1787865.46</td>\n",
              "    </tr>\n",
              "    <tr>\n",
              "      <th>2</th>\n",
              "      <td>2019-03-04</td>\n",
              "      <td>2019-03-04</td>\n",
              "      <td>NEFT-N093190219086535-100017630729-GALAXY POLYPACK PVT. LTD.</td>\n",
              "      <td>43362.0</td>\n",
              "      <td>0.0</td>\n",
              "      <td>1831227.46</td>\n",
              "    </tr>\n",
              "    <tr>\n",
              "      <th>3</th>\n",
              "      <td>2019-03-04</td>\n",
              "      <td>2019-03-04</td>\n",
              "      <td>NET TXN: IB FUNDS TRANS 010663300000800</td>\n",
              "      <td>44781.0</td>\n",
              "      <td>0.0</td>\n",
              "      <td>1876008.46</td>\n",
              "    </tr>\n",
              "    <tr>\n",
              "      <th>4</th>\n",
              "      <td>2019-03-04</td>\n",
              "      <td>2019-03-04</td>\n",
              "      <td>NEFT-N093190219090808-100017630955-AMIT ELECTRICALS</td>\n",
              "      <td>1947.0</td>\n",
              "      <td>0.0</td>\n",
              "      <td>1877955.46</td>\n",
              "    </tr>\n",
              "  </tbody>\n",
              "</table>\n",
              "</div>"
            ],
            "text/plain": [
              "  Transaction Date Value Date  \\\n",
              "0       2019-01-04 2019-02-04   \n",
              "1       2019-02-04 2019-02-04   \n",
              "2       2019-03-04 2019-03-04   \n",
              "3       2019-03-04 2019-03-04   \n",
              "4       2019-03-04 2019-03-04   \n",
              "\n",
              "                                                                      Description  \\\n",
              "0                               NEFT-N091190217874982-100017591084-SANGEET A RANI   \n",
              "1  NEFT Cr-HDFC0000240-PPAP AUTOMOTIVE LTD-ASIAN PACKAGING INDIA-N092190791349948   \n",
              "2                    NEFT-N093190219086535-100017630729-GALAXY POLYPACK PVT. LTD.   \n",
              "3                                         NET TXN: IB FUNDS TRANS 010663300000800   \n",
              "4                             NEFT-N093190219090808-100017630955-AMIT ELECTRICALS   \n",
              "\n",
              "   Withdrawal  Deposit     Balance  \n",
              "0     50000.0      0.0  1798060.46  \n",
              "1         0.0  10195.0  1787865.46  \n",
              "2     43362.0      0.0  1831227.46  \n",
              "3     44781.0      0.0  1876008.46  \n",
              "4      1947.0      0.0  1877955.46  "
            ]
          },
          "metadata": {
            "tags": []
          },
          "execution_count": 223
        }
      ]
    },
    {
      "cell_type": "markdown",
      "metadata": {
        "id": "VRUyS_oTPYn4"
      },
      "source": [
        "##Takes the transactions and classifies them into categories\n",
        "   ### 1. IMPS\n",
        "   ### 2. ATM\n",
        "   ### 3. NEFT\n",
        "   ### 4. NET TXN\n",
        "   ### 5. CASH and others\n",
        "\n",
        "###To do: Make it less complicated and reusable\n",
        "    "
      ]
    },
    {
      "cell_type": "code",
      "metadata": {
        "id": "12EDdq8fQiF1"
      },
      "source": [
        "t = df[\"Description\"]\n",
        "t = t.apply(lambda x: x.lower())"
      ],
      "execution_count": 224,
      "outputs": []
    },
    {
      "cell_type": "code",
      "metadata": {
        "id": "mG51NaLkU2oj"
      },
      "source": [
        "# Removing numbers and special characters\n",
        "text = t.replace(to_replace=\"[0-9]\", value=\"\", regex=True).apply(lambda x: x.replace(\"/\", \"\").replace(\"\\\\\", \"\").replace(\":\", \"\").replace(\"\\n\", \" \").replace(\"-\", \" \")\n",
        "        .replace(\"/\", \" \"))\n"
      ],
      "execution_count": 225,
      "outputs": []
    },
    {
      "cell_type": "code",
      "metadata": {
        "id": "LtuctMlSU2u3"
      },
      "source": [
        "for i in range(len(text)):\n",
        "  x = text[i].split()\n",
        "  for j in range(len(x)):\n",
        "    x[j] = x[j].strip()\n",
        "  text[i] = \" \".join(x)"
      ],
      "execution_count": 226,
      "outputs": []
    },
    {
      "cell_type": "code",
      "metadata": {
        "colab": {
          "base_uri": "https://localhost:8080/"
        },
        "id": "igydfORRU202",
        "outputId": "ba399a79-8d64-4d5c-c908-78a001f600e4"
      },
      "source": [
        "text"
      ],
      "execution_count": 227,
      "outputs": [
        {
          "output_type": "execute_result",
          "data": {
            "text/plain": [
              "0                                                           neft n sangeet a rani\n",
              "1                        neft cr hdfc ppap automotive ltd asian packaging india n\n",
              "2                                                neft n galaxy polypack pvt. ltd.\n",
              "3                                                          net txn ib funds trans\n",
              "4                                                         neft n amit electricals\n",
              "5                                                           chq deposit delhi sbi\n",
              "6                                                           chq deposit delhi bob\n",
              "7                                              neft n eden high field enterprises\n",
              "8                                                          net txn ib funds trans\n",
              "9                           neft cr orbc sagar polymers asian packaging india saa\n",
              "10     neft cr utib peachtree seatings private limited asian packaging india axtb\n",
              "11                                                 neft n suman poly pack company\n",
              "12                       neft cr hdfc ppap automotive ltd asian packaging india n\n",
              "13                                                      cts clg del madan traders\n",
              "14                                                         net txn ib funds trans\n",
              "15                                                        neft n srj technologigs\n",
              "16                                          neft n bestopl ast industry pvt. ltd.\n",
              "17                                                              chq paid surajpur\n",
              "18                                                         neft n yes enterprises\n",
              "19                                                         net txn ib funds trans\n",
              "20                                                         net txn ib funds trans\n",
              "21                                                         chq paid self surajpur\n",
              "22                                               neft n galaxy polypack pvt. ltd.\n",
              "23                         neft cr fdrl shiva enterprises asianpackaging smembuis\n",
              "24                                                         net txn ib funds trans\n",
              "25                                             neft n eden high field enterprises\n",
              "26                                                          chq deposit delhi kmb\n",
              "27                       neft cr hdfc ppap automotive ltd asian packaging india n\n",
              "28                                               neft n galaxy polypack pvt. ltd.\n",
              "29                                                         net txn ib funds trans\n",
              "30                                                         chq paid self surajpur\n",
              "31      neft cr utib peachtree seatings private limited asianpackaging india axtb\n",
              "32                                                    noida power company limited\n",
              "33                                                         net txn ib funds trans\n",
              "34                                               neft n galaxy polypack pvt. ltd.\n",
              "35                                                 neft n suman poly pack company\n",
              "36                       neft cr hdfc ppap automotive ltd asian packaging india n\n",
              "37                                                           cash dep ashok vihar\n",
              "38                                                   neft n eldee electronic corp\n",
              "39       neft cr barbvishwa shri maheshwari packaging asian packaging india barbs\n",
              "40                                                         net txn ib funds trans\n",
              "41                                                         net txn ib funds trans\n",
              "42                   neft cr orbc ibuser sagar polymers asian packaging india saa\n",
              "43                                                   neft n asian packaging india\n",
              "44                                                        funds trf from xxmobtxn\n",
              "45                                    neft n nilancha l polymer extrusion p. ltd.\n",
              "46                                                    cts clg del atlas adhesives\n",
              "47                                                   neft n eldee electronic corp\n",
              "48                                                        funds trf from xxmobtxn\n",
              "49                                                     debit interest capitalized\n",
              "50                                               neft n galaxy polypack pvt. ltd.\n",
              "51           neft cr barbsurgau micro paks industries asian packaging india barbu\n",
              "52                                                          neft n sangeet a rani\n",
              "53                                                         net txn ib funds trans\n",
              "54                                                                neft n a k jain\n",
              "55                                                        funds trf from xxmobtxn\n",
              "56                                    neft n nilancha l polymer extrusion p. ltd.\n",
              "57                                    funds trf to xxrrn to impsr p solutions eva\n",
              "58                       neft cr hdfc ppap automotive ltd asian packaging india n\n",
              "59                                                      cts clg del madan traders\n",
              "60                                                         net txn ib funds trans\n",
              "61                                                         net txn ib funds trans\n",
              "62           neft cr barbsurgau micro paks industries asian packaging india barbx\n",
              "63                                                         net txn ib funds trans\n",
              "64                                                          chq deposit delhi ici\n",
              "65                                                         net txn ib funds trans\n",
              "66                                                cts clg del iffco tokio gic ltd\n",
              "67       neft cr barbvishwa shri maheshwari packaging asian packaging india barbq\n",
              "68                                                         net txn ib funds trans\n",
              "69                 neft cr icic ppap automotive limited asian packaging india cms\n",
              "70                                             neft n eden high field enterprises\n",
              "71                                                           neft n madan traders\n",
              "72                       neft cr hdfc ppap automotive ltd asian packaging india n\n",
              "73                                                         chq deposit delhi axis\n",
              "74                                                          chq deposit delhi ici\n",
              "75                                               neft n galaxy polypack pvt. ltd.\n",
              "76                                                 neft n suman poly pack company\n",
              "77                   neft cr orbc ibuser sagar polymers asian packaging india saa\n",
              "78                       neft cr hdfc ppap automotive ltd asian packaging india n\n",
              "79                                                         net txn ib funds trans\n",
              "80                       neft cr hdfc ppap automotive ltd asian packaging india n\n",
              "81                                          neft n besto plast industries pvt ltd\n",
              "82                                                          neft n vishesh motors\n",
              "83                                                        neft n amit electricals\n",
              "84                                               neft n galaxy polypack pvt. ltd.\n",
              "85                                                          chq deposit delhi dsc\n",
              "86                                                          chq deposit delhi ubi\n",
              "87                                                         net txn ib funds trans\n",
              "88                                                        funds trf from xxmobtxn\n",
              "89                                       impspinnacle manufacturixxxrrnicici bank\n",
              "90                                    neft n nilancha l polymer extrusion p. ltd.\n",
              "91                   neft cr orbc ibuser sagar polymers asian packaging india saa\n",
              "92                       neft cr hdfc ppap automotive ltd asian packaging india n\n",
              "93                                                     debit interest capitalized\n",
              "94                                                           neft n madan traders\n",
              "95                                                         net txn ib funds trans\n",
              "96                                             neft n eden high field enterprises\n",
              "97                                                         net txn ib funds trans\n",
              "98                       neft cr hdfc ppap automotive ltd asian packaging india n\n",
              "99                                                          chq deposit delhi kmb\n",
              "100                                                        chq deposit delhi axis\n",
              "101                                                  neft n asian packaging india\n",
              "102                                                            neft n sunil kumar\n",
              "103                                                        net txn ib funds trans\n",
              "104                                        chq retn amount name differs on advice\n",
              "105                                           neft dr n pooja rawat hdfc surajpur\n",
              "106                                                      cheque deposit delhi kmb\n",
              "107                                                               neft n a k jain\n",
              "108                                                        net txn ib funds trans\n",
              "109                                                         chq deposit delhi kmb\n",
              "110      neft cr barbvishwa shri maheshwari packaging asian packaging india barbz\n",
              "111                                                        chq paid self surajpur\n",
              "112                                                         chq deposit delhi boi\n",
              "113                                              neft n galaxy polypack pvt. ltd.\n",
              "114                                                               neft n a k jain\n",
              "115                                                        net txn ib funds trans\n",
              "116                                                        net txn ib funds trans\n",
              "117                                               neft n apex foams india pvt ltd\n",
              "118                                                        chq paid self surajpur\n",
              "119                                                        net txn ib funds trans\n",
              "120                                                    neft payment chrgs for jun\n",
              "121                                                                           gst\n",
              "122                                                         chq deposit delhi ici\n",
              "123                                                        net txn ib funds trans\n",
              "124                                                        net txn ib funds trans\n",
              "125                                                         chq deposit delhi jkb\n",
              "126                                                        net txn ib funds trans\n",
              "127                                                    debit interest capitalized\n",
              "128                            neft cr ucba ksb designs astan packaging india saa\n",
              "129                                                              net txn d p poly\n",
              "130                                                        net txn ib funds trans\n",
              "131                                                        net txn ib funds trans\n",
              "132                                                               neft n a k jain\n",
              "133                                                         chq deposit delhi kmb\n",
              "134                      neft cr hdfc ppap automotive ltd asian packaging india n\n",
              "135                                              neft n galaxy polypack pvt. ltd.\n",
              "136                                                neft n suman poly pack company\n",
              "137                                                        chq paid self surajpur\n",
              "138                                                         chq deposit delhi ubi\n",
              "139                                                        net txn ib funds trans\n",
              "140                                                         neft n dinesh dokania\n",
              "141                           neft return n dinesh dokania account does not exist\n",
              "142                                                         neft n dinesh dokania\n",
              "143                                                        net txn ib funds trans\n",
              "144                      neft cr hdfc ppap automotive ltd asian packaging india n\n",
              "145                                                  neft n asian packaging india\n",
              "146                                                         neft n sangeet a rani\n",
              "147                                                        net txn ib funds trans\n",
              "148                                                          neft n madan traders\n",
              "149                                                         net txn r p solutions\n",
              "150                neft cr kkbk jain manufacturing co asian packaging india kkbkh\n",
              "151                                                          net txn r p solution\n",
              "152                       neft cr sbin a g electronics asian packaging india sbin\n",
              "153                      neft cr hdfc ppap automotive ltd asian packaging india n\n",
              "154                                               neft n apex foams india pvt ltd\n",
              "155                                              neft n galaxy polypack pvt. ltd.\n",
              "156                                                        net txn ib funds trans\n",
              "157      neft cr barbvishwa shri maheshwari packaging asian packaging india barbv\n",
              "158                                            neft dr n gst rbisgstpmt surajp ur\n",
              "159                                            impsa j enterprisesxxxrrnhdfc bank\n",
              "160                                      impsjmd packing industrixxxrrnicici bank\n",
              "161               neft cr kkbk itronics international asian packaging india kkbkh\n",
              "162                            neft cr ucba ksb designs asian packaging india saa\n",
              "163                                                        net txn ib funds trans\n",
              "164                                                neft n suman poly pack company\n",
              "165                   neft cr orbc orient international asian packaging india saa\n",
              "166                                    neft n paramou nt iron and steel works pvt\n",
              "167                      neft cr hdfc ppap automotive ltd asian packaging india n\n",
              "168                                                         chq deposit delhi jkb\n",
              "169                                                   chq retn funds insufficient\n",
              "170                                                        net txn ib funds trans\n",
              "171                                                    debit interest capitalized\n",
              "172                                                        net txn ib funds trans\n",
              "173                                                         chq deposit delhi kmb\n",
              "174                                                         chq deposit delhi ici\n",
              "175                                          cts clg del shri digambar jain samaj\n",
              "176                                                        net txn ib funds trans\n",
              "177                                                          neft n madan traders\n",
              "178                                                neft n suman poly pack company\n",
              "Name: Description, dtype: object"
            ]
          },
          "metadata": {
            "tags": []
          },
          "execution_count": 227
        }
      ]
    },
    {
      "cell_type": "code",
      "metadata": {
        "id": "2bmCbIhqNke1"
      },
      "source": [
        "def classify_trans(df):\n",
        "    \n",
        "    # df = pd.read_excel(\"all_bank.xlsx\")\n",
        "    t = df[\"Description\"]\n",
        "\n",
        "    t = t.apply(lambda x: x.lower())\n",
        "\n",
        "    # Removing numbers and special characters\n",
        "    text = t.replace(to_replace=\"[0-9]\", value=\"\", regex=True).apply(\n",
        "        lambda x: x.replace(\"/\", \"\").replace(\"\\\\\", \"\").replace(\":\", \"\").replace(\"\\n\", \" \").replace(\"-\", \" \")\n",
        "        .replace(\"/\", \" \"))\n",
        "\n",
        "    # Removing extra spaces created due to the above step\n",
        "    for i in range(len(text)):\n",
        "        x = text[i].split()\n",
        "        for j in range(len(x)):\n",
        "            x[j] = x[j].strip()\n",
        "        text[i] = \" \".join(x)\n",
        "\n",
        "    #### TODO: Rewriting the dictionary in a better implementation\n",
        "\n",
        "    labels = {\"imps\": \"imps\", \"rrn\": \"imps\", \"loan\": \"loan\", \"emi\": \"emi\", \n",
        "              \"txn paytm\": \"trf\", \"paytm\": \"trf\", \"gst\" : \"tax\",               \n",
        "              \"atd\": \"atm\", \"atm\": \"atm\", \"net txn\": \"nettxn\", \"cash\": \"cash\", \"funds trf\": \"trf\", \"neft\": \"neft\",\n",
        "              \"interest\": \"interest\", \"chq retn\" : \"cheque\", \"cheque deposit\" : \"cheque\", \"chq deposit\" : \"cheque\", \n",
        "              \"upi\": \"trf\", \"chq paid\" : \"cheque\",\n",
        "              \"refund\": \"refund\",\n",
        "              \"charge\": \"bank_charges\", \"pca\": \"trf\"}\n",
        "\n",
        "    labs = []\n",
        "\n",
        "    # Labelling the transaction according to the dictionary defined\n",
        "    for i in text:\n",
        "        f = 0\n",
        "        for j in list(labels.keys()):\n",
        "            if j in i:\n",
        "                labs.append(labels[j])\n",
        "                f = 1\n",
        "                break\n",
        "        if f == 0:\n",
        "            labs.append(\"miscellaneous\")\n",
        "    df[\"Label\"] = pd.DataFrame(labs)\n",
        "\n",
        "    return (df)\n",
        "\n"
      ],
      "execution_count": 228,
      "outputs": []
    },
    {
      "cell_type": "code",
      "metadata": {
        "colab": {
          "base_uri": "https://localhost:8080/",
          "height": 293
        },
        "id": "cWqX2XgyQKf8",
        "outputId": "a6f92ef0-85ad-4bf8-d3e2-dd6b2c401ab9"
      },
      "source": [
        "classify_trans(df)\n",
        "df.head()"
      ],
      "execution_count": 229,
      "outputs": [
        {
          "output_type": "execute_result",
          "data": {
            "text/html": [
              "<div>\n",
              "<style scoped>\n",
              "    .dataframe tbody tr th:only-of-type {\n",
              "        vertical-align: middle;\n",
              "    }\n",
              "\n",
              "    .dataframe tbody tr th {\n",
              "        vertical-align: top;\n",
              "    }\n",
              "\n",
              "    .dataframe thead th {\n",
              "        text-align: right;\n",
              "    }\n",
              "</style>\n",
              "<table border=\"1\" class=\"dataframe\">\n",
              "  <thead>\n",
              "    <tr style=\"text-align: right;\">\n",
              "      <th></th>\n",
              "      <th>Transaction Date</th>\n",
              "      <th>Value Date</th>\n",
              "      <th>Description</th>\n",
              "      <th>Withdrawal</th>\n",
              "      <th>Deposit</th>\n",
              "      <th>Balance</th>\n",
              "      <th>Label</th>\n",
              "    </tr>\n",
              "  </thead>\n",
              "  <tbody>\n",
              "    <tr>\n",
              "      <th>0</th>\n",
              "      <td>2019-01-04</td>\n",
              "      <td>2019-02-04</td>\n",
              "      <td>NEFT-N091190217874982-100017591084-SANGEET A RANI</td>\n",
              "      <td>50000.0</td>\n",
              "      <td>0.0</td>\n",
              "      <td>1798060.46</td>\n",
              "      <td>neft</td>\n",
              "    </tr>\n",
              "    <tr>\n",
              "      <th>1</th>\n",
              "      <td>2019-02-04</td>\n",
              "      <td>2019-02-04</td>\n",
              "      <td>NEFT Cr-HDFC0000240-PPAP AUTOMOTIVE LTD-ASIAN PACKAGING INDIA-N092190791349948</td>\n",
              "      <td>0.0</td>\n",
              "      <td>10195.0</td>\n",
              "      <td>1787865.46</td>\n",
              "      <td>neft</td>\n",
              "    </tr>\n",
              "    <tr>\n",
              "      <th>2</th>\n",
              "      <td>2019-03-04</td>\n",
              "      <td>2019-03-04</td>\n",
              "      <td>NEFT-N093190219086535-100017630729-GALAXY POLYPACK PVT. LTD.</td>\n",
              "      <td>43362.0</td>\n",
              "      <td>0.0</td>\n",
              "      <td>1831227.46</td>\n",
              "      <td>neft</td>\n",
              "    </tr>\n",
              "    <tr>\n",
              "      <th>3</th>\n",
              "      <td>2019-03-04</td>\n",
              "      <td>2019-03-04</td>\n",
              "      <td>NET TXN: IB FUNDS TRANS 010663300000800</td>\n",
              "      <td>44781.0</td>\n",
              "      <td>0.0</td>\n",
              "      <td>1876008.46</td>\n",
              "      <td>nettxn</td>\n",
              "    </tr>\n",
              "    <tr>\n",
              "      <th>4</th>\n",
              "      <td>2019-03-04</td>\n",
              "      <td>2019-03-04</td>\n",
              "      <td>NEFT-N093190219090808-100017630955-AMIT ELECTRICALS</td>\n",
              "      <td>1947.0</td>\n",
              "      <td>0.0</td>\n",
              "      <td>1877955.46</td>\n",
              "      <td>neft</td>\n",
              "    </tr>\n",
              "  </tbody>\n",
              "</table>\n",
              "</div>"
            ],
            "text/plain": [
              "  Transaction Date Value Date  \\\n",
              "0       2019-01-04 2019-02-04   \n",
              "1       2019-02-04 2019-02-04   \n",
              "2       2019-03-04 2019-03-04   \n",
              "3       2019-03-04 2019-03-04   \n",
              "4       2019-03-04 2019-03-04   \n",
              "\n",
              "                                                                      Description  \\\n",
              "0                               NEFT-N091190217874982-100017591084-SANGEET A RANI   \n",
              "1  NEFT Cr-HDFC0000240-PPAP AUTOMOTIVE LTD-ASIAN PACKAGING INDIA-N092190791349948   \n",
              "2                    NEFT-N093190219086535-100017630729-GALAXY POLYPACK PVT. LTD.   \n",
              "3                                         NET TXN: IB FUNDS TRANS 010663300000800   \n",
              "4                             NEFT-N093190219090808-100017630955-AMIT ELECTRICALS   \n",
              "\n",
              "   Withdrawal  Deposit     Balance   Label  \n",
              "0     50000.0      0.0  1798060.46    neft  \n",
              "1         0.0  10195.0  1787865.46    neft  \n",
              "2     43362.0      0.0  1831227.46    neft  \n",
              "3     44781.0      0.0  1876008.46  nettxn  \n",
              "4      1947.0      0.0  1877955.46    neft  "
            ]
          },
          "metadata": {
            "tags": []
          },
          "execution_count": 229
        }
      ]
    },
    {
      "cell_type": "code",
      "metadata": {
        "id": "q2snsO-rvpXq"
      },
      "source": [
        "def money(df):\n",
        "    type = []\n",
        "    for i in df.index:\n",
        "        if df[\"Withdrawal\"][i] > 0:\n",
        "            type.append(\"Debit\")\n",
        "        else:\n",
        "            type.append(\"Credit\")\n",
        "    df[\"Type\"] = pd.DataFrame(type)\n",
        "    return (df)"
      ],
      "execution_count": 230,
      "outputs": []
    },
    {
      "cell_type": "code",
      "metadata": {
        "colab": {
          "base_uri": "https://localhost:8080/",
          "height": 293
        },
        "id": "0-DWHy8QvprD",
        "outputId": "a839e4ab-35e1-4c8e-d197-11a4daedadd9"
      },
      "source": [
        "money(df)\n",
        "df.head()"
      ],
      "execution_count": 231,
      "outputs": [
        {
          "output_type": "execute_result",
          "data": {
            "text/html": [
              "<div>\n",
              "<style scoped>\n",
              "    .dataframe tbody tr th:only-of-type {\n",
              "        vertical-align: middle;\n",
              "    }\n",
              "\n",
              "    .dataframe tbody tr th {\n",
              "        vertical-align: top;\n",
              "    }\n",
              "\n",
              "    .dataframe thead th {\n",
              "        text-align: right;\n",
              "    }\n",
              "</style>\n",
              "<table border=\"1\" class=\"dataframe\">\n",
              "  <thead>\n",
              "    <tr style=\"text-align: right;\">\n",
              "      <th></th>\n",
              "      <th>Transaction Date</th>\n",
              "      <th>Value Date</th>\n",
              "      <th>Description</th>\n",
              "      <th>Withdrawal</th>\n",
              "      <th>Deposit</th>\n",
              "      <th>Balance</th>\n",
              "      <th>Label</th>\n",
              "      <th>Type</th>\n",
              "    </tr>\n",
              "  </thead>\n",
              "  <tbody>\n",
              "    <tr>\n",
              "      <th>0</th>\n",
              "      <td>2019-01-04</td>\n",
              "      <td>2019-02-04</td>\n",
              "      <td>NEFT-N091190217874982-100017591084-SANGEET A RANI</td>\n",
              "      <td>50000.0</td>\n",
              "      <td>0.0</td>\n",
              "      <td>1798060.46</td>\n",
              "      <td>neft</td>\n",
              "      <td>Debit</td>\n",
              "    </tr>\n",
              "    <tr>\n",
              "      <th>1</th>\n",
              "      <td>2019-02-04</td>\n",
              "      <td>2019-02-04</td>\n",
              "      <td>NEFT Cr-HDFC0000240-PPAP AUTOMOTIVE LTD-ASIAN PACKAGING INDIA-N092190791349948</td>\n",
              "      <td>0.0</td>\n",
              "      <td>10195.0</td>\n",
              "      <td>1787865.46</td>\n",
              "      <td>neft</td>\n",
              "      <td>Credit</td>\n",
              "    </tr>\n",
              "    <tr>\n",
              "      <th>2</th>\n",
              "      <td>2019-03-04</td>\n",
              "      <td>2019-03-04</td>\n",
              "      <td>NEFT-N093190219086535-100017630729-GALAXY POLYPACK PVT. LTD.</td>\n",
              "      <td>43362.0</td>\n",
              "      <td>0.0</td>\n",
              "      <td>1831227.46</td>\n",
              "      <td>neft</td>\n",
              "      <td>Debit</td>\n",
              "    </tr>\n",
              "    <tr>\n",
              "      <th>3</th>\n",
              "      <td>2019-03-04</td>\n",
              "      <td>2019-03-04</td>\n",
              "      <td>NET TXN: IB FUNDS TRANS 010663300000800</td>\n",
              "      <td>44781.0</td>\n",
              "      <td>0.0</td>\n",
              "      <td>1876008.46</td>\n",
              "      <td>nettxn</td>\n",
              "      <td>Debit</td>\n",
              "    </tr>\n",
              "    <tr>\n",
              "      <th>4</th>\n",
              "      <td>2019-03-04</td>\n",
              "      <td>2019-03-04</td>\n",
              "      <td>NEFT-N093190219090808-100017630955-AMIT ELECTRICALS</td>\n",
              "      <td>1947.0</td>\n",
              "      <td>0.0</td>\n",
              "      <td>1877955.46</td>\n",
              "      <td>neft</td>\n",
              "      <td>Debit</td>\n",
              "    </tr>\n",
              "  </tbody>\n",
              "</table>\n",
              "</div>"
            ],
            "text/plain": [
              "  Transaction Date Value Date  \\\n",
              "0       2019-01-04 2019-02-04   \n",
              "1       2019-02-04 2019-02-04   \n",
              "2       2019-03-04 2019-03-04   \n",
              "3       2019-03-04 2019-03-04   \n",
              "4       2019-03-04 2019-03-04   \n",
              "\n",
              "                                                                      Description  \\\n",
              "0                               NEFT-N091190217874982-100017591084-SANGEET A RANI   \n",
              "1  NEFT Cr-HDFC0000240-PPAP AUTOMOTIVE LTD-ASIAN PACKAGING INDIA-N092190791349948   \n",
              "2                    NEFT-N093190219086535-100017630729-GALAXY POLYPACK PVT. LTD.   \n",
              "3                                         NET TXN: IB FUNDS TRANS 010663300000800   \n",
              "4                             NEFT-N093190219090808-100017630955-AMIT ELECTRICALS   \n",
              "\n",
              "   Withdrawal  Deposit     Balance   Label    Type  \n",
              "0     50000.0      0.0  1798060.46    neft   Debit  \n",
              "1         0.0  10195.0  1787865.46    neft  Credit  \n",
              "2     43362.0      0.0  1831227.46    neft   Debit  \n",
              "3     44781.0      0.0  1876008.46  nettxn   Debit  \n",
              "4      1947.0      0.0  1877955.46    neft   Debit  "
            ]
          },
          "metadata": {
            "tags": []
          },
          "execution_count": 231
        }
      ]
    },
    {
      "cell_type": "code",
      "metadata": {
        "colab": {
          "base_uri": "https://localhost:8080/"
        },
        "id": "gk-uiMtJNU1u",
        "outputId": "3846ba59-7fa9-4f2b-d8f8-20722a5c1396"
      },
      "source": [
        "df['Label'].value_counts()"
      ],
      "execution_count": 232,
      "outputs": [
        {
          "output_type": "execute_result",
          "data": {
            "text/plain": [
              "neft             89\n",
              "nettxn           41\n",
              "cheque           28\n",
              "miscellaneous     6\n",
              "imps              4\n",
              "interest          4\n",
              "trf               4\n",
              "tax               2\n",
              "cash              1\n",
              "Name: Label, dtype: int64"
            ]
          },
          "metadata": {
            "tags": []
          },
          "execution_count": 232
        }
      ]
    },
    {
      "cell_type": "code",
      "metadata": {
        "colab": {
          "base_uri": "https://localhost:8080/"
        },
        "id": "7D4s4sf-WXIt",
        "outputId": "8e5a7856-414a-4732-8896-10ad77e27b73"
      },
      "source": [
        "df['Type'].value_counts()"
      ],
      "execution_count": 234,
      "outputs": [
        {
          "output_type": "execute_result",
          "data": {
            "text/plain": [
              "Debit     112\n",
              "Credit     67\n",
              "Name: Type, dtype: int64"
            ]
          },
          "metadata": {
            "tags": []
          },
          "execution_count": 234
        }
      ]
    },
    {
      "cell_type": "code",
      "metadata": {
        "id": "Pqe6WAxBWx80"
      },
      "source": [
        "def analyse(df):\n",
        "    labels = df[\"Label\"].unique()\n",
        "    counts = df.groupby(\"Label\").size()\n",
        "\n",
        "    plt.figure(figsize=(16, 10))\n",
        "    plt.bar(counts.index, counts)\n",
        "    plt.show()"
      ],
      "execution_count": 235,
      "outputs": []
    },
    {
      "cell_type": "code",
      "metadata": {
        "colab": {
          "base_uri": "https://localhost:8080/",
          "height": 592
        },
        "id": "UvM0gTlcW4wL",
        "outputId": "f6db1c65-a606-4ae1-a631-5c7e78f9cc07"
      },
      "source": [
        "analyse(df)"
      ],
      "execution_count": 236,
      "outputs": [
        {
          "output_type": "display_data",
          "data": {
            "image/png": "[encoded data removed]",
            "text/plain": [
              "<Figure size 1152x720 with 1 Axes>"
            ]
          },
          "metadata": {
            "tags": [],
            "needs_background": "light"
          }
        }
      ]
    },
    {
      "cell_type": "code",
      "metadata": {
        "id": "WWfWjAx9XcZc"
      },
      "source": [
        "def analyzer(df):\n",
        "    labels = df[\"Type\"].unique()\n",
        "    counts = df.groupby(\"Type\").size()\n",
        "\n",
        "    plt.figure(figsize=(16, 10))\n",
        "    plt.bar(counts.index, counts)\n",
        "    plt.show()"
      ],
      "execution_count": 238,
      "outputs": []
    },
    {
      "cell_type": "code",
      "metadata": {
        "colab": {
          "base_uri": "https://localhost:8080/",
          "height": 592
        },
        "id": "W2Enfz6LXcgS",
        "outputId": "d4534132-5985-4108-fa60-db573e081c14"
      },
      "source": [
        "analyzer(df)"
      ],
      "execution_count": 239,
      "outputs": [
        {
          "output_type": "display_data",
          "data": {
            "image/png": "[encoded data removed]",
            "text/plain": [
              "<Figure size 1152x720 with 1 Axes>"
            ]
          },
          "metadata": {
            "tags": [],
            "needs_background": "light"
          }
        }
      ]
    },
    {
      "cell_type": "code",
      "metadata": {
        "colab": {
          "base_uri": "https://localhost:8080/"
        },
        "id": "l-KOWvDiZmuI",
        "outputId": "e92a517a-78e8-4db8-e6d6-b6ef6c14b3dc"
      },
      "source": [
        "df.columns"
      ],
      "execution_count": 244,
      "outputs": [
        {
          "output_type": "execute_result",
          "data": {
            "text/plain": [
              "Index(['Transaction Date', 'Value Date', 'Description', 'Withdrawal',\n",
              "       'Deposit', 'Balance', 'Label', 'Type'],\n",
              "      dtype='object')"
            ]
          },
          "metadata": {
            "tags": []
          },
          "execution_count": 244
        }
      ]
    },
    {
      "cell_type": "code",
      "metadata": {
        "colab": {
          "base_uri": "https://localhost:8080/",
          "height": 632
        },
        "id": "CoSCsY9kZkQo",
        "outputId": "13d89892-7eb8-443a-df29-890942d7687a"
      },
      "source": [
        "# to check normally distributed or not for the numerical column\n",
        "fig, ax = plt.subplots(2,3,figsize = (30,15))\n",
        "sns.distplot(df[\"Withdrawal\"], kde =True, ax=ax[0,0], color = \"blue\")\n",
        "sns.distplot(df[\"Deposit\"], kde =True, ax=ax[0,1], color = \"black\")\n",
        "sns.distplot(df[\"Balance\"], kde =True, ax=ax[0,2], color = \"magenta\")"
      ],
      "execution_count": 249,
      "outputs": [
        {
          "output_type": "stream",
          "text": [
            "/usr/local/lib/python3.7/dist-packages/seaborn/distributions.py:2557: FutureWarning: `distplot` is a deprecated function and will be removed in a future version. Please adapt your code to use either `displot` (a figure-level function with similar flexibility) or `histplot` (an axes-level function for histograms).\n",
            "  warnings.warn(msg, FutureWarning)\n",
            "/usr/local/lib/python3.7/dist-packages/seaborn/distributions.py:2557: FutureWarning: `distplot` is a deprecated function and will be removed in a future version. Please adapt your code to use either `displot` (a figure-level function with similar flexibility) or `histplot` (an axes-level function for histograms).\n",
            "  warnings.warn(msg, FutureWarning)\n",
            "/usr/local/lib/python3.7/dist-packages/seaborn/distributions.py:2557: FutureWarning: `distplot` is a deprecated function and will be removed in a future version. Please adapt your code to use either `displot` (a figure-level function with similar flexibility) or `histplot` (an axes-level function for histograms).\n",
            "  warnings.warn(msg, FutureWarning)\n"
          ],
          "name": "stderr"
        },
        {
          "output_type": "execute_result",
          "data": {
            "text/plain": [
              "<matplotlib.axes._subplots.AxesSubplot at 0x7fe15eff6110>"
            ]
          },
          "metadata": {
            "tags": []
          },
          "execution_count": 249
        },
        {
          "output_type": "display_data",
          "data": {
            "image/png": "[encoded data removed]",
            "text/plain": [
              "<Figure size 2160x1080 with 6 Axes>"
            ]
          },
          "metadata": {
            "tags": [],
            "needs_background": "light"
          }
        }
      ]
    },
    {
      "cell_type": "code",
      "metadata": {
        "colab": {
          "base_uri": "https://localhost:8080/"
        },
        "id": "wsrPXFpOaKuR",
        "outputId": "d69894ed-3035-4137-d16f-ecdaf365b02a"
      },
      "source": [
        "df.skew()"
      ],
      "execution_count": 250,
      "outputs": [
        {
          "output_type": "execute_result",
          "data": {
            "text/plain": [
              "Withdrawal    1.754841\n",
              "Deposit       2.863924\n",
              "Balance      -0.625568\n",
              "dtype: float64"
            ]
          },
          "metadata": {
            "tags": []
          },
          "execution_count": 250
        }
      ]
    },
    {
      "cell_type": "markdown",
      "metadata": {
        "id": "oMOVEmIEcY9M"
      },
      "source": [
        "Data is little bit skewed. But we dont need to bother. Because we are applying boosting algorithm for this problem."
      ]
    },
    {
      "cell_type": "markdown",
      "metadata": {
        "id": "axo8RA5scUF2"
      },
      "source": [
        "## FEATURE ENGINEERING"
      ]
    },
    {
      "cell_type": "code",
      "metadata": {
        "colab": {
          "base_uri": "https://localhost:8080/"
        },
        "id": "Z7vUf8R_6hVt",
        "outputId": "08c18503-c32c-49a9-cf81-cbf00b0db8b5"
      },
      "source": [
        "from sklearn.preprocessing import LabelEncoder\n",
        "le = LabelEncoder()\n",
        "df['Label'] = le.fit_transform(df['Label'])\n",
        "le.classes_"
      ],
      "execution_count": 251,
      "outputs": [
        {
          "output_type": "execute_result",
          "data": {
            "text/plain": [
              "array(['cash', 'cheque', 'imps', 'interest', 'miscellaneous', 'neft',\n",
              "       'nettxn', 'tax', 'trf'], dtype=object)"
            ]
          },
          "metadata": {
            "tags": []
          },
          "execution_count": 251
        }
      ]
    },
    {
      "cell_type": "code",
      "metadata": {
        "colab": {
          "base_uri": "https://localhost:8080/"
        },
        "id": "qEAWni-ea5fu",
        "outputId": "c0d5fe3b-b824-4afb-bef5-9b1ee76bf840"
      },
      "source": [
        "df.columns"
      ],
      "execution_count": 252,
      "outputs": [
        {
          "output_type": "execute_result",
          "data": {
            "text/plain": [
              "Index(['Transaction Date', 'Value Date', 'Description', 'Withdrawal',\n",
              "       'Deposit', 'Balance', 'Label', 'Type'],\n",
              "      dtype='object')"
            ]
          },
          "metadata": {
            "tags": []
          },
          "execution_count": 252
        }
      ]
    },
    {
      "cell_type": "code",
      "metadata": {
        "id": "_w-jnoPw6hc4"
      },
      "source": [
        "# we extract data from Description. so i am going to drop that feature. \n",
        "# And also dropping the date features. if i add the date feature, it will become time series problem and need much more time for that.\n",
        "df.drop(['Transaction Date', 'Value Date', 'Description'], axis=1, inplace=True)"
      ],
      "execution_count": 253,
      "outputs": []
    },
    {
      "cell_type": "code",
      "metadata": {
        "colab": {
          "base_uri": "https://localhost:8080/"
        },
        "id": "HUkk8t0VbHSz",
        "outputId": "5f78183c-891c-44d4-c3a3-3750d0afa72f"
      },
      "source": [
        "df['Type'].value_counts()"
      ],
      "execution_count": 254,
      "outputs": [
        {
          "output_type": "execute_result",
          "data": {
            "text/plain": [
              "Debit     112\n",
              "Credit     67\n",
              "Name: Type, dtype: int64"
            ]
          },
          "metadata": {
            "tags": []
          },
          "execution_count": 254
        }
      ]
    },
    {
      "cell_type": "code",
      "metadata": {
        "colab": {
          "base_uri": "https://localhost:8080/",
          "height": 206
        },
        "id": "9RvNTZi76hgg",
        "outputId": "d5d6459c-1a5f-46b2-f90c-9bd7e35dc2bf"
      },
      "source": [
        "z = {'Debit' : 0, 'Credit' : 1}\n",
        "df['Type'] = df['Type'].map(z)\n",
        "df.head()"
      ],
      "execution_count": 255,
      "outputs": [
        {
          "output_type": "execute_result",
          "data": {
            "text/html": [
              "<div>\n",
              "<style scoped>\n",
              "    .dataframe tbody tr th:only-of-type {\n",
              "        vertical-align: middle;\n",
              "    }\n",
              "\n",
              "    .dataframe tbody tr th {\n",
              "        vertical-align: top;\n",
              "    }\n",
              "\n",
              "    .dataframe thead th {\n",
              "        text-align: right;\n",
              "    }\n",
              "</style>\n",
              "<table border=\"1\" class=\"dataframe\">\n",
              "  <thead>\n",
              "    <tr style=\"text-align: right;\">\n",
              "      <th></th>\n",
              "      <th>Withdrawal</th>\n",
              "      <th>Deposit</th>\n",
              "      <th>Balance</th>\n",
              "      <th>Label</th>\n",
              "      <th>Type</th>\n",
              "    </tr>\n",
              "  </thead>\n",
              "  <tbody>\n",
              "    <tr>\n",
              "      <th>0</th>\n",
              "      <td>50000.0</td>\n",
              "      <td>0.0</td>\n",
              "      <td>1798060.46</td>\n",
              "      <td>5</td>\n",
              "      <td>0</td>\n",
              "    </tr>\n",
              "    <tr>\n",
              "      <th>1</th>\n",
              "      <td>0.0</td>\n",
              "      <td>10195.0</td>\n",
              "      <td>1787865.46</td>\n",
              "      <td>5</td>\n",
              "      <td>1</td>\n",
              "    </tr>\n",
              "    <tr>\n",
              "      <th>2</th>\n",
              "      <td>43362.0</td>\n",
              "      <td>0.0</td>\n",
              "      <td>1831227.46</td>\n",
              "      <td>5</td>\n",
              "      <td>0</td>\n",
              "    </tr>\n",
              "    <tr>\n",
              "      <th>3</th>\n",
              "      <td>44781.0</td>\n",
              "      <td>0.0</td>\n",
              "      <td>1876008.46</td>\n",
              "      <td>6</td>\n",
              "      <td>0</td>\n",
              "    </tr>\n",
              "    <tr>\n",
              "      <th>4</th>\n",
              "      <td>1947.0</td>\n",
              "      <td>0.0</td>\n",
              "      <td>1877955.46</td>\n",
              "      <td>5</td>\n",
              "      <td>0</td>\n",
              "    </tr>\n",
              "  </tbody>\n",
              "</table>\n",
              "</div>"
            ],
            "text/plain": [
              "   Withdrawal  Deposit     Balance  Label  Type\n",
              "0     50000.0      0.0  1798060.46      5     0\n",
              "1         0.0  10195.0  1787865.46      5     1\n",
              "2     43362.0      0.0  1831227.46      5     0\n",
              "3     44781.0      0.0  1876008.46      6     0\n",
              "4      1947.0      0.0  1877955.46      5     0"
            ]
          },
          "metadata": {
            "tags": []
          },
          "execution_count": 255
        }
      ]
    },
    {
      "cell_type": "markdown",
      "metadata": {
        "id": "YTZfEbYQKV-Z"
      },
      "source": [
        "## TRAIN TEST SPLIT"
      ]
    },
    {
      "cell_type": "code",
      "metadata": {
        "colab": {
          "base_uri": "https://localhost:8080/"
        },
        "id": "i6XCzVVLJ4hM",
        "outputId": "d2288914-d255-4450-8dbc-e0590d905c4e"
      },
      "source": [
        "x=df.drop(['Type'], axis = 1)\n",
        "y=df['Type']\n",
        "x.shape, y.shape"
      ],
      "execution_count": 256,
      "outputs": [
        {
          "output_type": "execute_result",
          "data": {
            "text/plain": [
              "((179, 4), (179,))"
            ]
          },
          "metadata": {
            "tags": []
          },
          "execution_count": 256
        }
      ]
    },
    {
      "cell_type": "code",
      "metadata": {
        "id": "cWieu0A0J4nI"
      },
      "source": [
        "from sklearn.model_selection import train_test_split\n",
        "x_train,x_test, y_train, y_test = train_test_split(x,y, test_size =0.20, random_state = 3)"
      ],
      "execution_count": 257,
      "outputs": []
    },
    {
      "cell_type": "markdown",
      "metadata": {
        "id": "cnv0fvhVohch"
      },
      "source": [
        "##RANDOM FOREST MODEL"
      ]
    },
    {
      "cell_type": "code",
      "metadata": {
        "id": "2qe7pZTiXtap"
      },
      "source": [
        "from sklearn.ensemble import RandomForestClassifier\n",
        "clf = RandomForestClassifier(n_estimators=50, max_depth=10, min_samples_leaf=2, random_state=1)\n",
        "clf.fit(x_train, y_train)\n",
        "y_pred=clf.predict(x_test)"
      ],
      "execution_count": 262,
      "outputs": []
    },
    {
      "cell_type": "code",
      "metadata": {
        "colab": {
          "base_uri": "https://localhost:8080/"
        },
        "id": "SNWK4gvJXtvg",
        "outputId": "e4f8f27b-3078-4f24-91f1-1b6492c9a78c"
      },
      "source": [
        "from sklearn.metrics import confusion_matrix\n",
        "from sklearn.metrics import classification_report\n",
        "print(classification_report(y_test, y_pred))\n",
        "print(confusion_matrix(y_test, y_pred))\n",
        "\n",
        "from sklearn.metrics import accuracy_score\n",
        "print('accuracy is',accuracy_score(y_test,y_pred))"
      ],
      "execution_count": 263,
      "outputs": [
        {
          "output_type": "stream",
          "text": [
            "              precision    recall  f1-score   support\n",
            "\n",
            "           0       1.00      1.00      1.00        23\n",
            "           1       1.00      1.00      1.00        13\n",
            "\n",
            "    accuracy                           1.00        36\n",
            "   macro avg       1.00      1.00      1.00        36\n",
            "weighted avg       1.00      1.00      1.00        36\n",
            "\n",
            "[[23  0]\n",
            " [ 0 13]]\n",
            "accuracy is 1.0\n"
          ],
          "name": "stdout"
        }
      ]
    },
    {
      "cell_type": "markdown",
      "metadata": {
        "id": "SGPmLre9cO4c"
      },
      "source": [
        "## XGBOOST MODEL"
      ]
    },
    {
      "cell_type": "code",
      "metadata": {
        "id": "WbMm2KEvbrcD"
      },
      "source": [
        "import xgboost\n",
        "clf = xgboost.XGBClassifier()\n",
        "clf.fit(x_train, y_train)\n",
        "y_pred=clf.predict(x_test)"
      ],
      "execution_count": 264,
      "outputs": []
    },
    {
      "cell_type": "code",
      "metadata": {
        "colab": {
          "base_uri": "https://localhost:8080/"
        },
        "id": "j3S_4Asebrws",
        "outputId": "e64e65b4-7728-4c7e-adab-8d42de01b32b"
      },
      "source": [
        "from sklearn.metrics import confusion_matrix\n",
        "from sklearn.metrics import classification_report, roc_curve, auc\n",
        "\n",
        "print(classification_report(y_test, y_pred))\n",
        "print(confusion_matrix(y_test, y_pred))\n",
        "\n",
        "from sklearn.metrics import accuracy_score\n",
        "print('accuracy is',accuracy_score(y_test,y_pred))"
      ],
      "execution_count": 265,
      "outputs": [
        {
          "output_type": "stream",
          "text": [
            "              precision    recall  f1-score   support\n",
            "\n",
            "           0       1.00      1.00      1.00        23\n",
            "           1       1.00      1.00      1.00        13\n",
            "\n",
            "    accuracy                           1.00        36\n",
            "   macro avg       1.00      1.00      1.00        36\n",
            "weighted avg       1.00      1.00      1.00        36\n",
            "\n",
            "[[23  0]\n",
            " [ 0 13]]\n",
            "accuracy is 1.0\n"
          ],
          "name": "stdout"
        }
      ]
    },
    {
      "cell_type": "markdown",
      "metadata": {
        "id": "N1bg8IMSeAVs"
      },
      "source": [
        "## Conclusion : Both models give me 100% accuracy with no type 1 error and type 2 error (no false positives and false negatives)."
      ]
    }
  ]
}